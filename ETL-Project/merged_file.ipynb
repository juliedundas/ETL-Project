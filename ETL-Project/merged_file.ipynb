{
 "cells": [
  {
   "cell_type": "code",
   "execution_count": 1,
   "metadata": {},
   "outputs": [],
   "source": [
    "import os\n",
    "import csv\n",
    "import pandas as pd\n",
    "import numpy as np"
   ]
  },
  {
   "cell_type": "code",
   "execution_count": 2,
   "metadata": {},
   "outputs": [],
   "source": [
    "load_file = \"astronaut_format.csv\"\n",
    "load_file1 = \"eva_format.csv\"\n",
    "\n",
    "astronaut_format_df = pd.read_csv(load_file)\n",
    "eva_format_df = pd.read_csv(load_file1)"
   ]
  },
  {
   "cell_type": "code",
   "execution_count": 3,
   "metadata": {},
   "outputs": [],
   "source": [
    "eva_format_df[\"Undergraduate Major\"] = \"\"\n",
    "eva_format_df[\"Graduate Major\"] = \"\""
   ]
  },
  {
   "cell_type": "code",
   "execution_count": 4,
   "metadata": {},
   "outputs": [],
   "source": [
    "count=0\n",
    "count2=0\n",
    "for name_crew in eva_format_df[\"Crew\"]:\n",
    "    count+=1\n",
    "    count2=0\n",
    "    for full_name in astronaut_format_df[\"Full Name\"]:\n",
    "        count2+=1\n",
    "        if full_name in name_crew:\n",
    "            un_degree = astronaut_format_df.iloc[count2-1,8]\n",
    "            grad_degree = astronaut_format_df.iloc[count2-1,9]\n",
    "            if eva_format_df.iloc[count-1,7] == \"\":\n",
    "                eva_format_df.iloc[count-1,7] = un_degree\n",
    "            else:\n",
    "                eva_format_df.iloc[count-1,7] = f\"{eva_format_df.iloc[count-1,7]}, {un_degree}\"\n",
    "            \n",
    "            if eva_format_df.iloc[count-1,8] == \"\":\n",
    "                eva_format_df.iloc[count-1,8] = grad_degree\n",
    "            else:\n",
    "                eva_format_df.iloc[count-1,8] = f\"{eva_format_df.iloc[count-1,8]}, {grad_degree}\"\n"
   ]
  },
  {
   "cell_type": "code",
   "execution_count": 7,
   "metadata": {},
   "outputs": [],
   "source": [
    "eva_format_df = eva_format_df.fillna(\"Not listed\")\n",
    "eva_format_df = eva_format_df.replace(\"\",\"Not listed\")\n"
   ]
  },
  {
   "cell_type": "code",
   "execution_count": 6,
   "metadata": {},
   "outputs": [],
   "source": [
    "eva_format_df.to_csv('merged_file.csv', index=False)"
   ]
  },
  {
   "cell_type": "code",
   "execution_count": null,
   "metadata": {},
   "outputs": [],
   "source": []
  }
 ],
 "metadata": {
  "kernelspec": {
   "display_name": "Python 3",
   "language": "python",
   "name": "python3"
  },
  "language_info": {
   "codemirror_mode": {
    "name": "ipython",
    "version": 3
   },
   "file_extension": ".py",
   "mimetype": "text/x-python",
   "name": "python",
   "nbconvert_exporter": "python",
   "pygments_lexer": "ipython3",
   "version": "3.7.4"
  }
 },
 "nbformat": 4,
 "nbformat_minor": 2
}
