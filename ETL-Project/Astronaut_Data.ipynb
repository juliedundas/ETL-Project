{
 "cells": [
  {
   "cell_type": "code",
   "execution_count": 1,
   "metadata": {},
   "outputs": [],
   "source": [
    "# Dependencies\n",
    "from bs4 import BeautifulSoup as bs\n",
    "import requests\n",
    "import pandas as pd\n",
    "import pymongo\n",
    "import json"
   ]
  },
  {
   "cell_type": "code",
   "execution_count": 2,
   "metadata": {},
   "outputs": [],
   "source": [
    "# Initialize PyMongo to work with MongoDBs\n",
    "conn = 'mongodb://localhost:27017'\n",
    "client = pymongo.MongoClient(conn)"
   ]
  },
  {
   "cell_type": "code",
   "execution_count": 3,
   "metadata": {},
   "outputs": [],
   "source": [
    "# Define database and collection\n",
    "db = client.astronaut_db\n",
    "collection = db.facts"
   ]
  },
  {
   "cell_type": "code",
   "execution_count": 4,
   "metadata": {},
   "outputs": [],
   "source": [
    "# URL of page to be scraped\n",
    "url = 'https://www.archives.gov/research/alic/reference/space-timeline.html'"
   ]
  },
  {
   "cell_type": "code",
   "execution_count": 5,
   "metadata": {},
   "outputs": [
    {
     "name": "stdout",
     "output_type": "stream",
     "text": [
      "https://www.archives.gov/research/alic/reference/space-timeline.html\n"
     ]
    }
   ],
   "source": [
    "# Retrieve page with the requests module\n",
    "response = requests.get(url)\n",
    "print(response.url)"
   ]
  },
  {
   "cell_type": "code",
   "execution_count": 6,
   "metadata": {},
   "outputs": [],
   "source": [
    "# Create BeautifulSoup object; parse with 'html.parser'\n",
    "soup = bs(response.text,'html.parser')"
   ]
  },
  {
   "cell_type": "code",
   "execution_count": 7,
   "metadata": {},
   "outputs": [],
   "source": [
    "# Examine the results, then determine element that contains sought info\n",
    "#print(soup.prettify())"
   ]
  },
  {
   "cell_type": "code",
   "execution_count": 8,
   "metadata": {},
   "outputs": [],
   "source": [
    "# results are returned as an iterable list\n",
    "results = soup.find_all('div', class_=\"region\")\n",
    "#results"
   ]
  },
  {
   "cell_type": "code",
   "execution_count": 9,
   "metadata": {},
   "outputs": [],
   "source": [
    "#results = soup.find_all('div', class_=\"region\")\n",
    "#results"
   ]
  },
  {
   "cell_type": "code",
   "execution_count": 10,
   "metadata": {},
   "outputs": [
    {
     "name": "stdout",
     "output_type": "stream",
     "text": [
      "The length of the year list is 47 items\n"
     ]
    }
   ],
   "source": [
    "# Loop through returned results\n",
    "years = soup.find_all('strong')\n",
    "year_counts = []\n",
    "\n",
    "for year in years:\n",
    "    #print(year.text)\n",
    "    \n",
    "    year_counts.append(year.text) \n",
    "\n",
    "    \n",
    "    year_list_length = (len(year_counts))\n",
    "    \n",
    "print(f'The length of the year list is {year_list_length} items')"
   ]
  },
  {
   "cell_type": "code",
   "execution_count": 11,
   "metadata": {},
   "outputs": [],
   "source": [
    "year_counts.remove(year_counts[0])"
   ]
  },
  {
   "cell_type": "code",
   "execution_count": 12,
   "metadata": {},
   "outputs": [
    {
     "name": "stdout",
     "output_type": "stream",
     "text": [
      "[1957, 1958, 1960, 1961, 1962, 1965, 1966, 1967, 1968, 1969, 1970, 1971, 1972, 1973, 1975, 1976, 1977, 1979, 1980, 1981, 1983, 1984, 1985, 1986, 1989, 1990, 1992, 1993, 1994, 1995, 1997, 1998, 1999, 2000, 2001, 2003, 2004, 2005, 2006, 2007, 2008, 2009, 2010, 2011, 2012, 2013]\n"
     ]
    }
   ],
   "source": [
    "numbered_years = []\n",
    "\n",
    "for item in year_counts:\n",
    "    year_floated = int(item)\n",
    "    numbered_years.append(year_floated)\n",
    "    \n",
    "print(numbered_years)    "
   ]
  },
  {
   "cell_type": "code",
   "execution_count": 13,
   "metadata": {},
   "outputs": [
    {
     "name": "stdout",
     "output_type": "stream",
     "text": [
      "46\n"
     ]
    }
   ],
   "source": [
    "#print(year_counts)\n",
    "print(len(numbered_years))"
   ]
  },
  {
   "cell_type": "code",
   "execution_count": 14,
   "metadata": {
    "scrolled": false
   },
   "outputs": [
    {
     "name": "stdout",
     "output_type": "stream",
     "text": [
      "The length of the fact_list is 59 items\n"
     ]
    }
   ],
   "source": [
    "### Loop through returned results for fun facts\n",
    "fun_facts = soup.select('ul')\n",
    "#print(fun_facts)\n",
    " \n",
    "fact_list = []\n",
    "\n",
    "\n",
    "for fact in fun_facts:\n",
    "    first_li = fact('li')[0].text\n",
    "    #print(fact)\n",
    "    fact_list.append(first_li)\n",
    "    #print('------------------')\n",
    "    \n",
    "\n",
    "    fact_list_length = (len(fact_list))\n",
    "    \n",
    "print(f'The length of the fact_list is {fact_list_length} items')\n",
    " "
   ]
  },
  {
   "cell_type": "code",
   "execution_count": 15,
   "metadata": {},
   "outputs": [],
   "source": [
    "#print(fact_list)"
   ]
  },
  {
   "cell_type": "code",
   "execution_count": 16,
   "metadata": {},
   "outputs": [],
   "source": [
    "updated_fact_list = fact_list[8:]\n",
    "#updated_fact_list"
   ]
  },
  {
   "cell_type": "code",
   "execution_count": 17,
   "metadata": {},
   "outputs": [
    {
     "name": "stdout",
     "output_type": "stream",
     "text": [
      "46\n"
     ]
    }
   ],
   "source": [
    "usable_fact_list = updated_fact_list[:46]\n",
    "#usable_fact_list\n",
    "\n",
    "print(len(usable_fact_list))"
   ]
  },
  {
   "cell_type": "code",
   "execution_count": 18,
   "metadata": {},
   "outputs": [
    {
     "data": {
      "text/html": [
       "<div>\n",
       "<style scoped>\n",
       "    .dataframe tbody tr th:only-of-type {\n",
       "        vertical-align: middle;\n",
       "    }\n",
       "\n",
       "    .dataframe tbody tr th {\n",
       "        vertical-align: top;\n",
       "    }\n",
       "\n",
       "    .dataframe thead th {\n",
       "        text-align: right;\n",
       "    }\n",
       "</style>\n",
       "<table border=\"1\" class=\"dataframe\">\n",
       "  <thead>\n",
       "    <tr style=\"text-align: right;\">\n",
       "      <th></th>\n",
       "      <th>Year</th>\n",
       "      <th>Facts</th>\n",
       "    </tr>\n",
       "  </thead>\n",
       "  <tbody>\n",
       "    <tr>\n",
       "      <td>0</td>\n",
       "      <td>1957</td>\n",
       "      <td>October 4 - The Soviet Union launched the firs...</td>\n",
       "    </tr>\n",
       "    <tr>\n",
       "      <td>1</td>\n",
       "      <td>1958</td>\n",
       "      <td>January 31 - Explorer 1 was the first satellit...</td>\n",
       "    </tr>\n",
       "    <tr>\n",
       "      <td>2</td>\n",
       "      <td>1960</td>\n",
       "      <td>August 19 - The Soviet craft Sputnik 5 was lau...</td>\n",
       "    </tr>\n",
       "    <tr>\n",
       "      <td>3</td>\n",
       "      <td>1961</td>\n",
       "      <td>April 12 - Russian cosmonaut Yuri Gagarin beca...</td>\n",
       "    </tr>\n",
       "    <tr>\n",
       "      <td>4</td>\n",
       "      <td>1962</td>\n",
       "      <td>February 20 - Astronaut John Glenn became the ...</td>\n",
       "    </tr>\n",
       "    <tr>\n",
       "      <td>5</td>\n",
       "      <td>1965</td>\n",
       "      <td>March 18 - While tethered to his spacecraft, c...</td>\n",
       "    </tr>\n",
       "    <tr>\n",
       "      <td>6</td>\n",
       "      <td>1966</td>\n",
       "      <td>February 3 - The Russian spacecraft Luna 9 bec...</td>\n",
       "    </tr>\n",
       "    <tr>\n",
       "      <td>7</td>\n",
       "      <td>1967</td>\n",
       "      <td>January 27 - Astronauts Gus Grissom, Ed White,...</td>\n",
       "    </tr>\n",
       "    <tr>\n",
       "      <td>8</td>\n",
       "      <td>1968</td>\n",
       "      <td>September 15 - The Soviet spacecraft Zond 5 wa...</td>\n",
       "    </tr>\n",
       "    <tr>\n",
       "      <td>9</td>\n",
       "      <td>1969</td>\n",
       "      <td>July 20 - Neil Armstrong and \"Buzz\" Aldrin bec...</td>\n",
       "    </tr>\n",
       "    <tr>\n",
       "      <td>10</td>\n",
       "      <td>1970</td>\n",
       "      <td>April 11 - Apollo 13 was launched.</td>\n",
       "    </tr>\n",
       "    <tr>\n",
       "      <td>11</td>\n",
       "      <td>1971</td>\n",
       "      <td>April 19 - The Soviet space station Salyut 1 w...</td>\n",
       "    </tr>\n",
       "    <tr>\n",
       "      <td>12</td>\n",
       "      <td>1972</td>\n",
       "      <td>December 11 - Eugene Cernan and Harrison \"Jack...</td>\n",
       "    </tr>\n",
       "    <tr>\n",
       "      <td>13</td>\n",
       "      <td>1973</td>\n",
       "      <td>May 14 - The U.S. launched its first space sta...</td>\n",
       "    </tr>\n",
       "    <tr>\n",
       "      <td>14</td>\n",
       "      <td>1975</td>\n",
       "      <td>July 17 - The American Apollo 18 and Soviet So...</td>\n",
       "    </tr>\n",
       "    <tr>\n",
       "      <td>15</td>\n",
       "      <td>1976</td>\n",
       "      <td>September - The American probe Viking 2 discov...</td>\n",
       "    </tr>\n",
       "    <tr>\n",
       "      <td>16</td>\n",
       "      <td>1977</td>\n",
       "      <td>August and September - Voyagers 1 and 2 were l...</td>\n",
       "    </tr>\n",
       "    <tr>\n",
       "      <td>17</td>\n",
       "      <td>1979</td>\n",
       "      <td>March and August - Voyagers 1 and 2 began tran...</td>\n",
       "    </tr>\n",
       "    <tr>\n",
       "      <td>18</td>\n",
       "      <td>1980</td>\n",
       "      <td>November 13 - Voyager 1 reached Saturn and beg...</td>\n",
       "    </tr>\n",
       "    <tr>\n",
       "      <td>19</td>\n",
       "      <td>1981</td>\n",
       "      <td>April 12 - Columbia became the first Space Shu...</td>\n",
       "    </tr>\n",
       "    <tr>\n",
       "      <td>20</td>\n",
       "      <td>1983</td>\n",
       "      <td>April 4 - The second Space Shuttle, Challenger...</td>\n",
       "    </tr>\n",
       "    <tr>\n",
       "      <td>21</td>\n",
       "      <td>1984</td>\n",
       "      <td>February 3 - Astronaut Bruce McCandless became...</td>\n",
       "    </tr>\n",
       "    <tr>\n",
       "      <td>22</td>\n",
       "      <td>1985</td>\n",
       "      <td>October 3 - Atlantis, the fourth Space Shuttle...</td>\n",
       "    </tr>\n",
       "    <tr>\n",
       "      <td>23</td>\n",
       "      <td>1986</td>\n",
       "      <td>January 24 - Voyager 2 began transmitting imag...</td>\n",
       "    </tr>\n",
       "    <tr>\n",
       "      <td>24</td>\n",
       "      <td>1989</td>\n",
       "      <td>August - Voyager 2 began transmitting images f...</td>\n",
       "    </tr>\n",
       "    <tr>\n",
       "      <td>25</td>\n",
       "      <td>1990</td>\n",
       "      <td>August 10 - The Magellan spacecraft began mapp...</td>\n",
       "    </tr>\n",
       "    <tr>\n",
       "      <td>26</td>\n",
       "      <td>1992</td>\n",
       "      <td>May 7 - The Space Shuttle Endeavor was launche...</td>\n",
       "    </tr>\n",
       "    <tr>\n",
       "      <td>27</td>\n",
       "      <td>1993</td>\n",
       "      <td>December - The Space Shuttle Endeavor made the...</td>\n",
       "    </tr>\n",
       "    <tr>\n",
       "      <td>28</td>\n",
       "      <td>1994</td>\n",
       "      <td>February 3 - Sergei Krikalev became the first ...</td>\n",
       "    </tr>\n",
       "    <tr>\n",
       "      <td>29</td>\n",
       "      <td>1995</td>\n",
       "      <td>February 2 - Eileen Collins became the first f...</td>\n",
       "    </tr>\n",
       "    <tr>\n",
       "      <td>30</td>\n",
       "      <td>1997</td>\n",
       "      <td>July 4 - The Mars Pathfinder arrived on Mars a...</td>\n",
       "    </tr>\n",
       "    <tr>\n",
       "      <td>31</td>\n",
       "      <td>1998</td>\n",
       "      <td>October 29 - John Glenn became the oldest man ...</td>\n",
       "    </tr>\n",
       "    <tr>\n",
       "      <td>32</td>\n",
       "      <td>1999</td>\n",
       "      <td>July 23 - Eileen Collins became the first fema...</td>\n",
       "    </tr>\n",
       "    <tr>\n",
       "      <td>33</td>\n",
       "      <td>2000</td>\n",
       "      <td>February 14 - The U.S. Near Earth Asteroid Ren...</td>\n",
       "    </tr>\n",
       "    <tr>\n",
       "      <td>34</td>\n",
       "      <td>2001</td>\n",
       "      <td>February 12 - NEAR landed on the surface of Er...</td>\n",
       "    </tr>\n",
       "    <tr>\n",
       "      <td>35</td>\n",
       "      <td>2003</td>\n",
       "      <td>February 1 - The Space Shuttle Columbia broke ...</td>\n",
       "    </tr>\n",
       "    <tr>\n",
       "      <td>36</td>\n",
       "      <td>2004</td>\n",
       "      <td>January 14 - President Bush proposed a new spa...</td>\n",
       "    </tr>\n",
       "    <tr>\n",
       "      <td>37</td>\n",
       "      <td>2005</td>\n",
       "      <td>July 3 - A NASA spacecraft collided with a com...</td>\n",
       "    </tr>\n",
       "    <tr>\n",
       "      <td>38</td>\n",
       "      <td>2006</td>\n",
       "      <td>January 15 - NASA spacecraft Stardust returned...</td>\n",
       "    </tr>\n",
       "    <tr>\n",
       "      <td>39</td>\n",
       "      <td>2007</td>\n",
       "      <td>August 4 - NASA launched its Phoenix Mars Lander.</td>\n",
       "    </tr>\n",
       "    <tr>\n",
       "      <td>40</td>\n",
       "      <td>2008</td>\n",
       "      <td>January 14 - The NASA space probe Messenger sk...</td>\n",
       "    </tr>\n",
       "    <tr>\n",
       "      <td>41</td>\n",
       "      <td>2009</td>\n",
       "      <td>March 6 - The NASA spacecraft Kepler was launc...</td>\n",
       "    </tr>\n",
       "    <tr>\n",
       "      <td>42</td>\n",
       "      <td>2010</td>\n",
       "      <td>October 10 - Virgin Galactic, a private compan...</td>\n",
       "    </tr>\n",
       "    <tr>\n",
       "      <td>43</td>\n",
       "      <td>2011</td>\n",
       "      <td>July 8 - The space shuttle Atlantis became the...</td>\n",
       "    </tr>\n",
       "    <tr>\n",
       "      <td>44</td>\n",
       "      <td>2012</td>\n",
       "      <td>May 22 - SpaceX, a commercial space company, l...</td>\n",
       "    </tr>\n",
       "    <tr>\n",
       "      <td>45</td>\n",
       "      <td>2013</td>\n",
       "      <td>September 7 - NASA launched the unmanned LADEE...</td>\n",
       "    </tr>\n",
       "  </tbody>\n",
       "</table>\n",
       "</div>"
      ],
      "text/plain": [
       "    Year                                              Facts\n",
       "0   1957  October 4 - The Soviet Union launched the firs...\n",
       "1   1958  January 31 - Explorer 1 was the first satellit...\n",
       "2   1960  August 19 - The Soviet craft Sputnik 5 was lau...\n",
       "3   1961  April 12 - Russian cosmonaut Yuri Gagarin beca...\n",
       "4   1962  February 20 - Astronaut John Glenn became the ...\n",
       "5   1965  March 18 - While tethered to his spacecraft, c...\n",
       "6   1966  February 3 - The Russian spacecraft Luna 9 bec...\n",
       "7   1967  January 27 - Astronauts Gus Grissom, Ed White,...\n",
       "8   1968  September 15 - The Soviet spacecraft Zond 5 wa...\n",
       "9   1969  July 20 - Neil Armstrong and \"Buzz\" Aldrin bec...\n",
       "10  1970                April 11 - Apollo 13 was launched. \n",
       "11  1971  April 19 - The Soviet space station Salyut 1 w...\n",
       "12  1972  December 11 - Eugene Cernan and Harrison \"Jack...\n",
       "13  1973  May 14 - The U.S. launched its first space sta...\n",
       "14  1975  July 17 - The American Apollo 18 and Soviet So...\n",
       "15  1976  September - The American probe Viking 2 discov...\n",
       "16  1977  August and September - Voyagers 1 and 2 were l...\n",
       "17  1979  March and August - Voyagers 1 and 2 began tran...\n",
       "18  1980  November 13 - Voyager 1 reached Saturn and beg...\n",
       "19  1981  April 12 - Columbia became the first Space Shu...\n",
       "20  1983  April 4 - The second Space Shuttle, Challenger...\n",
       "21  1984  February 3 - Astronaut Bruce McCandless became...\n",
       "22  1985  October 3 - Atlantis, the fourth Space Shuttle...\n",
       "23  1986  January 24 - Voyager 2 began transmitting imag...\n",
       "24  1989  August - Voyager 2 began transmitting images f...\n",
       "25  1990  August 10 - The Magellan spacecraft began mapp...\n",
       "26  1992  May 7 - The Space Shuttle Endeavor was launche...\n",
       "27  1993  December - The Space Shuttle Endeavor made the...\n",
       "28  1994  February 3 - Sergei Krikalev became the first ...\n",
       "29  1995  February 2 - Eileen Collins became the first f...\n",
       "30  1997  July 4 - The Mars Pathfinder arrived on Mars a...\n",
       "31  1998  October 29 - John Glenn became the oldest man ...\n",
       "32  1999  July 23 - Eileen Collins became the first fema...\n",
       "33  2000  February 14 - The U.S. Near Earth Asteroid Ren...\n",
       "34  2001  February 12 - NEAR landed on the surface of Er...\n",
       "35  2003  February 1 - The Space Shuttle Columbia broke ...\n",
       "36  2004  January 14 - President Bush proposed a new spa...\n",
       "37  2005  July 3 - A NASA spacecraft collided with a com...\n",
       "38  2006  January 15 - NASA spacecraft Stardust returned...\n",
       "39  2007  August 4 - NASA launched its Phoenix Mars Lander.\n",
       "40  2008  January 14 - The NASA space probe Messenger sk...\n",
       "41  2009  March 6 - The NASA spacecraft Kepler was launc...\n",
       "42  2010  October 10 - Virgin Galactic, a private compan...\n",
       "43  2011  July 8 - The space shuttle Atlantis became the...\n",
       "44  2012  May 22 - SpaceX, a commercial space company, l...\n",
       "45  2013  September 7 - NASA launched the unmanned LADEE..."
      ]
     },
     "execution_count": 18,
     "metadata": {},
     "output_type": "execute_result"
    }
   ],
   "source": [
    "df = pd.DataFrame({\"Year\": numbered_years, \"Facts\":usable_fact_list})\n",
    "df"
   ]
  },
  {
   "cell_type": "code",
   "execution_count": 19,
   "metadata": {},
   "outputs": [],
   "source": [
    "df.to_csv('year_fact.csv', index=False)"
   ]
  },
  {
   "cell_type": "code",
   "execution_count": 20,
   "metadata": {},
   "outputs": [
    {
     "data": {
      "text/plain": [
       "<pymongo.results.InsertManyResult at 0x11cd432d0>"
      ]
     },
     "execution_count": 20,
     "metadata": {},
     "output_type": "execute_result"
    }
   ],
   "source": [
    "data = df.to_dict(orient='records')  # Here's our added param..\n",
    "\n",
    "collection.insert_many(data)"
   ]
  },
  {
   "cell_type": "code",
   "execution_count": null,
   "metadata": {},
   "outputs": [],
   "source": []
  }
 ],
 "metadata": {
  "kernelspec": {
   "display_name": "Python 3",
   "language": "python",
   "name": "python3"
  },
  "language_info": {
   "codemirror_mode": {
    "name": "ipython",
    "version": 3
   },
   "file_extension": ".py",
   "mimetype": "text/x-python",
   "name": "python",
   "nbconvert_exporter": "python",
   "pygments_lexer": "ipython3",
   "version": "3.7.4"
  }
 },
 "nbformat": 4,
 "nbformat_minor": 2
}
